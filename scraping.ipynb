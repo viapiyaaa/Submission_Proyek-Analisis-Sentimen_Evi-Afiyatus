{
  "nbformat": 4,
  "nbformat_minor": 0,
  "metadata": {
    "colab": {
      "provenance": []
    },
    "kernelspec": {
      "name": "python3",
      "display_name": "Python 3"
    },
    "language_info": {
      "name": "python"
    }
  },
  "cells": [
    {
      "cell_type": "markdown",
      "source": [
        "##Instalasi dan Import Library untuk Proses Scraping"
      ],
      "metadata": {
        "id": "9dsSRGOiMiYh"
      }
    },
    {
      "cell_type": "markdown",
      "source": [
        "Pada langkah ini, dilakukan instalasi libary google-play-scraper dari PyPI (Python Package Index) untuk mengambil data dari Google Play Store, seperti ulasan, rating, info aplikasi, dsb. Kemudian dilanjutkan dengan mengimpor beberapa library yaitu:  \n",
        "*   pandas, digunakan untuk mengelola dan menyimpan data dalam format DataFrame agar lebih mudah dianalisis.\n",
        "*   reviews_all dan reviews dari google_play_scraper, berfungsi untuk mengakses ulasan aplikasi di Play Store, baik secara keseluruhan maupun sebagian.\n",
        "*   Sort, digunakan untuk menentukan urutan ulasan yang diambil, seperti menampilkan yang terbaru terlebih dahulu atau berdasarkan peringkat tertinggi.\n",
        "\n",
        "\n",
        "\n",
        "\n",
        "\n",
        "\n",
        "\n",
        "\n",
        "\n",
        "\n"
      ],
      "metadata": {
        "id": "t6A3889xMsKd"
      }
    },
    {
      "cell_type": "code",
      "execution_count": 1,
      "metadata": {
        "colab": {
          "base_uri": "https://localhost:8080/"
        },
        "id": "n8T1SOEQIm7s",
        "outputId": "e29a0589-e182-4120-e798-ff79d0b2f947"
      },
      "outputs": [
        {
          "output_type": "stream",
          "name": "stdout",
          "text": [
            "Collecting google-play-scraper\n",
            "  Downloading google_play_scraper-1.2.7-py3-none-any.whl.metadata (50 kB)\n",
            "\u001b[?25l     \u001b[90m━━━━━━━━━━━━━━━━━━━━━━━━━━━━━━━━━━━━━━━━\u001b[0m \u001b[32m0.0/50.2 kB\u001b[0m \u001b[31m?\u001b[0m eta \u001b[36m-:--:--\u001b[0m\r\u001b[2K     \u001b[90m━━━━━━━━━━━━━━━━━━━━━━━━━━━━━━━━━━━━━━━━\u001b[0m \u001b[32m50.2/50.2 kB\u001b[0m \u001b[31m2.9 MB/s\u001b[0m eta \u001b[36m0:00:00\u001b[0m\n",
            "\u001b[?25hDownloading google_play_scraper-1.2.7-py3-none-any.whl (28 kB)\n",
            "Installing collected packages: google-play-scraper\n",
            "Successfully installed google-play-scraper-1.2.7\n"
          ]
        }
      ],
      "source": [
        "# Instalasi library google-play-scraper\n",
        "!pip install google-play-scraper"
      ]
    },
    {
      "cell_type": "code",
      "source": [
        "# Import library yang akan digunakan\n",
        "import pandas as pd\n",
        "from google_play_scraper import reviews_all, reviews, Sort"
      ],
      "metadata": {
        "id": "kISw4RTaJAXC"
      },
      "execution_count": 2,
      "outputs": []
    },
    {
      "cell_type": "markdown",
      "source": [
        "##Proses Scraping Ulasan Pengguna Aplikasi Gojek"
      ],
      "metadata": {
        "id": "tTaHzZKCNrBj"
      }
    },
    {
      "cell_type": "markdown",
      "source": [
        "Pada langkah ini digunakan fungsi `reviews_all()` dari library `google-play-scraper` untuk mengambil ulasan pengguna aplikasi Gojek yang tersedia di Google Play Store. Parameter yang digunakan mencakup:\n",
        "*   ID aplikasi (`'com.gojek.app'`)\n",
        "*   Bahasa ulasan (`lang='id'` untuk Bahasa Indonesia)\n",
        "*   Negara asal ulasan (`country='id'` untuk Indonesia)\n",
        "*   Metode pengurutan (`Sort.MOST_RELEVANT` untuk ulasan yang paling relevan)\n",
        "*   jumlah maksimum ulasan yang ingin diambil (`count=15000`).\n",
        "\n",
        "Data hasil scraping yang berupa list of dictionaries kemudian diubah menjadi sebuah DataFrame dengan mengambil 2 kolom, yaitu\n",
        "*   `content` (isi ulasan)\n",
        "*   `score` (rating yang diberikan pengguna)\n",
        "\n",
        "Terakhir data disimpan dalam file CSV bernama ulasan_gojek.csv\n"
      ],
      "metadata": {
        "id": "rXPkl1jhPNqF"
      }
    },
    {
      "cell_type": "code",
      "source": [
        "hasil_scraping = reviews_all(\n",
        "    'com.gojek.app',\n",
        "    lang='id',\n",
        "    country='id',\n",
        "    sort=Sort.MOST_RELEVANT,\n",
        "    count=15000\n",
        ")"
      ],
      "metadata": {
        "id": "4YP7DDdIJOAD"
      },
      "execution_count": 4,
      "outputs": []
    },
    {
      "cell_type": "code",
      "source": [
        "# Buat DataFrame dari list of dicts (hasil_scraping)\n",
        "reviews_gojek_df = pd.DataFrame(hasil_scraping)\n",
        "\n",
        "# Ambil hanya kolom yang diinginkan\n",
        "df_fitur = reviews_gojek_df[['content', 'score']]\n",
        "\n",
        "# Simpan ke CSV kalau mau\n",
        "df_fitur.to_csv('ulasan_gojek.csv', index=False, encoding='utf-8')\n",
        "\n",
        "print(\"Data successfully\")"
      ],
      "metadata": {
        "colab": {
          "base_uri": "https://localhost:8080/"
        },
        "id": "9KOPPUs2Jazp",
        "outputId": "5ccb5fa6-9921-479d-a463-959b1143a5d6"
      },
      "execution_count": 15,
      "outputs": [
        {
          "output_type": "stream",
          "name": "stdout",
          "text": [
            "Data successfully\n"
          ]
        }
      ]
    }
  ]
}